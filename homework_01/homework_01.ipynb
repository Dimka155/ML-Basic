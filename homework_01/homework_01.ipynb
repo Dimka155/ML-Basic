{
 "cells": [
  {
   "cell_type": "markdown",
   "id": "8955a739",
   "metadata": {},
   "source": [
    "# Домашнее задание: Базовые типы данных\n",
    "\n"
   ]
  },
  {
   "cell_type": "markdown",
   "id": "d4e67b86",
   "metadata": {},
   "source": [
    "## Задание 1: Зеркальное отражение цифр\n",
    "\n",
    "Пользователь вводит пятизначное число. Программа должна зеркально отразить три центральные цифры. Первая и последняя остаются на местах.\n",
    "\n",
    "<br>\n",
    "\n",
    "**Примеры:**\n",
    "* `23456 -> 25436`\n",
    "* `30789 -> 38709`"
   ]
  },
  {
   "cell_type": "code",
   "execution_count": 4,
   "id": "5a4d665d",
   "metadata": {},
   "outputs": [
    {
     "name": "stdin",
     "output_type": "stream",
     "text": [
      "Введите пятизначное число (или 'exit' для выхода):  56789\n"
     ]
    },
    {
     "name": "stdout",
     "output_type": "stream",
     "text": [
      "Результат: 58769\n"
     ]
    },
    {
     "name": "stdin",
     "output_type": "stream",
     "text": [
      "Введите пятизначное число (или 'exit' для выхода):  67778\n"
     ]
    },
    {
     "name": "stdout",
     "output_type": "stream",
     "text": [
      "Результат: 67778\n"
     ]
    },
    {
     "name": "stdin",
     "output_type": "stream",
     "text": [
      "Введите пятизначное число (или 'exit' для выхода):  90909\n"
     ]
    },
    {
     "name": "stdout",
     "output_type": "stream",
     "text": [
      "Результат: 90909\n"
     ]
    },
    {
     "name": "stdin",
     "output_type": "stream",
     "text": [
      "Введите пятизначное число (или 'exit' для выхода):  12345\n"
     ]
    },
    {
     "name": "stdout",
     "output_type": "stream",
     "text": [
      "Результат: 14325\n"
     ]
    },
    {
     "name": "stdin",
     "output_type": "stream",
     "text": [
      "Введите пятизначное число (или 'exit' для выхода):  76876876876\n"
     ]
    },
    {
     "name": "stdout",
     "output_type": "stream",
     "text": [
      "Ошибка: введите пятизначное число.\n"
     ]
    },
    {
     "name": "stdin",
     "output_type": "stream",
     "text": [
      "Введите пятизначное число (или 'exit' для выхода):  exit\n"
     ]
    },
    {
     "name": "stdout",
     "output_type": "stream",
     "text": [
      "Выход из программы. До свидания!\n"
     ]
    }
   ],
   "source": [
    "while True:\n",
    "    number = input(\"Введите пятизначное число (или 'exit' для выхода): \")\n",
    "    if number.lower() == 'exit':\n",
    "        print(\"Выход из программы. До свидания!\")\n",
    "        break\n",
    "    if len(number) == 5 and number.isdigit():\n",
    "        result = number[0] + number[3] + number[2] + number[1] + number[4]\n",
    "        print(\"Результат:\", result)\n",
    "    else:\n",
    "        print(\"Ошибка: введите пятизначное число.\")\n",
    "\n"
   ]
  },
  {
   "cell_type": "markdown",
   "id": "00b9578b",
   "metadata": {},
   "source": [
    "## Задание 2: Подсчет выходных до отпуска\n",
    "\n",
    "Пользователь вводит сколько дней осталось до ближайшего отпуска. Программа должна вывести количество выходных дней до отпуска, если учесть, что выходные это суббота и воскресенье, сегодня понедельник и праздники мы не учитываем.  \n",
    "\n",
    "<br>\n",
    "\n",
    "**Примеры:**\n",
    "* `4  -> 0`\n",
    "* `6  -> 1`\n",
    "* `14 -> 4`"
   ]
  },
  {
   "cell_type": "code",
   "execution_count": 5,
   "id": "07154103",
   "metadata": {},
   "outputs": [
    {
     "name": "stdin",
     "output_type": "stream",
     "text": [
      "Введите количество дней до отпуска (или 'exit' для выхода):  4\n"
     ]
    },
    {
     "name": "stdout",
     "output_type": "stream",
     "text": [
      "Выходных до отпуска: 0\n"
     ]
    },
    {
     "name": "stdin",
     "output_type": "stream",
     "text": [
      "Введите количество дней до отпуска (или 'exit' для выхода):  6\n"
     ]
    },
    {
     "name": "stdout",
     "output_type": "stream",
     "text": [
      "Выходных до отпуска: 1\n"
     ]
    },
    {
     "name": "stdin",
     "output_type": "stream",
     "text": [
      "Введите количество дней до отпуска (или 'exit' для выхода):  14\n"
     ]
    },
    {
     "name": "stdout",
     "output_type": "stream",
     "text": [
      "Выходных до отпуска: 4\n"
     ]
    },
    {
     "name": "stdin",
     "output_type": "stream",
     "text": [
      "Введите количество дней до отпуска (или 'exit' для выхода):  exit\n"
     ]
    },
    {
     "name": "stdout",
     "output_type": "stream",
     "text": [
      "Выход из программы. До свидания!\n"
     ]
    }
   ],
   "source": [
    "while True:\n",
    "    days = input(\"Введите количество дней до отпуска (или 'exit' для выхода): \")\n",
    "    if days.lower() == 'exit':\n",
    "        print(\"Выход из программы. До свидания!\")\n",
    "        break\n",
    "    if days.isdigit():\n",
    "        days = int(days)\n",
    "        full_weeks = days // 7\n",
    "        weekends = full_weeks * 2\n",
    "        remainder = days % 7\n",
    "        if remainder >= 6:\n",
    "            weekends += 1\n",
    "        print(\"Выходных до отпуска:\", weekends)\n",
    "    else:\n",
    "        print(\"Ошибка: значение не может быть пустым или не является числом.\")"
   ]
  },
  {
   "cell_type": "markdown",
   "id": "cdde282c",
   "metadata": {},
   "source": [
    "## Задание 3: Плитка шоколада\n",
    "\n",
    "Пользователь вводит длину и ширину плитки шоколада, а также размер куска, который хочет отломить. Программа должна вычислить - можно ли совершить подобный разлом или нет, если учесть, что ломать можно только по прямой.\n",
    "\n",
    "<br>\n",
    "\n",
    "**Примеры:**\n",
    "* `3, 4, 6  -> True`\n",
    "* `5, 7, 8  -> False`\n",
    "* `4, 5, 12 -> True`"
   ]
  },
  {
   "cell_type": "code",
   "execution_count": 7,
   "id": "70f3324c",
   "metadata": {},
   "outputs": [
    {
     "name": "stdin",
     "output_type": "stream",
     "text": [
      "Введите длину плитки:  5\n",
      "Введите ширину плитки:  7\n",
      "Введите количество кусочков, которое хотите отломить:  8\n"
     ]
    },
    {
     "name": "stdout",
     "output_type": "stream",
     "text": [
      "Нельзя отломить такой кусок.\n"
     ]
    }
   ],
   "source": [
    "n = int(input(\"Введите длину плитки: \"))\n",
    "m = int(input(\"Введите ширину плитки: \"))\n",
    "k = int(input(\"Введите количество кусочков, которое хотите отломить: \"))\n",
    "\n",
    "if k < n * m:\n",
    "    if k % n == 0 or k % m == 0:\n",
    "        print(\"Можно отломить такой кусок.\")\n",
    "    else:\n",
    "        print(\"Нельзя отломить такой кусок.\")\n",
    "else:\n",
    "    print(\"Нельзя отломить такой кусок.\")"
   ]
  },
  {
   "cell_type": "markdown",
   "id": "6470efc1",
   "metadata": {},
   "source": [
    "## Задание 4: Римские числа\n",
    "\n",
    "Пользователь вводит целое положительное число, программа должна вернуть строку в виде римского числа.\n",
    "\n",
    "<br>\n",
    "\n",
    "**Примеры:**\n",
    "* `3   -> III`\n",
    "* `15  -> XV`\n",
    "* `234 -> CCXXXIV`"
   ]
  },
  {
   "cell_type": "code",
   "execution_count": 9,
   "id": "8686127c",
   "metadata": {},
   "outputs": [
    {
     "name": "stdin",
     "output_type": "stream",
     "text": [
      "Введите число для перевода в римское число (или 'exit' для выхода):  3\n"
     ]
    },
    {
     "name": "stdout",
     "output_type": "stream",
     "text": [
      "III\n"
     ]
    },
    {
     "name": "stdin",
     "output_type": "stream",
     "text": [
      "Введите число для перевода в римское число (или 'exit' для выхода):  15\n"
     ]
    },
    {
     "name": "stdout",
     "output_type": "stream",
     "text": [
      "XV\n"
     ]
    },
    {
     "name": "stdin",
     "output_type": "stream",
     "text": [
      "Введите число для перевода в римское число (или 'exit' для выхода):  234\n"
     ]
    },
    {
     "name": "stdout",
     "output_type": "stream",
     "text": [
      "CCXXXIV\n"
     ]
    },
    {
     "name": "stdin",
     "output_type": "stream",
     "text": [
      "Введите число для перевода в римское число (или 'exit' для выхода):  exit\n"
     ]
    }
   ],
   "source": [
    "while True:\n",
    "    user_input = input(\"Введите число для перевода в римское число (или 'exit' для выхода): \")\n",
    "    if user_input.lower() == 'exit':\n",
    "        break\n",
    "    if not user_input.isdigit():\n",
    "        print(\"Пожалуйста, введите положительное целое число.\")\n",
    "        continue\n",
    "\n",
    "    number = int(user_input)\n",
    "    if number < 1 or number > 3999:\n",
    "        print(\"Число должно быть от 1 до 3999.\")\n",
    "        continue\n",
    "\n",
    "    values = [1000, 900, 500, 400, 100, 90, 50, 40, 10, 9, 5, 4, 1]\n",
    "    symbols = [\"M\", \"CM\", \"D\", \"CD\", \"C\", \"XC\", \"L\", \"XL\", \"X\", \"IX\", \"V\", \"IV\", \"I\"]\n",
    "    roman = \"\"\n",
    "    i = 0\n",
    "    while number > 0:\n",
    "        while number >= values[i]:\n",
    "            roman += symbols[i]\n",
    "            number -= values[i]\n",
    "        i += 1\n",
    "    print(roman)"
   ]
  },
  {
   "cell_type": "markdown",
   "id": "ca6a4c0a",
   "metadata": {},
   "source": [
    "## Задание 5: Проверка на вещественное число\n",
    "\n",
    "Пользователь вводит данные, проверить - являются ли они положительным вещественным числом. Не использовать встроенные функции для проверки, только методы данных и конструкцию IF. (Дополнительное задание, по желанию - проверка на отрицательные вещественные числа)\n",
    "\n",
    "<br>\n",
    "\n",
    "**Примеры:**\n",
    "* `5.6  -> True`\n",
    "* `.78  -> True`\n",
    "* `.67. -> False`\n",
    "* `5    -> True`"
   ]
  },
  {
   "cell_type": "code",
   "execution_count": 13,
   "id": "74e39179",
   "metadata": {},
   "outputs": [
    {
     "name": "stdin",
     "output_type": "stream",
     "text": [
      "Введите число:  5\n"
     ]
    },
    {
     "name": "stdout",
     "output_type": "stream",
     "text": [
      "Число является положительным вещественным числом\n"
     ]
    }
   ],
   "source": [
    "s = input(\"Введите число: \")\n",
    "s = s.strip()\n",
    "\n",
    "dot_count = 0\n",
    "digit_count = 0\n",
    "is_number = True\n",
    "is_negative = False\n",
    "\n",
    "if s == \"\":\n",
    "    is_number = False\n",
    "\n",
    "if s.startswith('-'):\n",
    "    is_negative = True\n",
    "    s2 = s[1:]\n",
    "else:\n",
    "    s2 = s\n",
    "\n",
    "for ch in s2:\n",
    "    if ch == '.':\n",
    "        dot_count += 1\n",
    "        if dot_count > 1:\n",
    "            is_number = False\n",
    "    elif ch >= '0' and ch <= '9':\n",
    "        digit_count += 1\n",
    "    else:\n",
    "        is_number = False\n",
    "\n",
    "if digit_count == 0:\n",
    "    is_number = False\n",
    "\n",
    "if dot_count == 1:\n",
    "    if s2 == '.' or (s2.startswith('.') and s2.endswith('.')):\n",
    "        is_number = False\n",
    "    if s2.endswith('.'):\n",
    "        pos = s2.find('.')\n",
    "        if pos == len(s2) - 1:\n",
    "            is_number = False\n",
    "    if s2.startswith('.'):\n",
    "        if len(s2) == 1 or not (s2[1] >= '0' and s2[1] <= '9'):\n",
    "            is_number = False\n",
    "if is_number:\n",
    "    if len(s2) > 1 and s2.startswith('0') and s2[1] != '.':\n",
    "        is_number = False\n",
    "    if len(s2) > 1 and s2.startswith('0') and s2[1] == '.' and digit_count == 0:\n",
    "        is_number = False\n",
    "\n",
    "if is_number:\n",
    "    if is_negative:\n",
    "        print(\"Число является отрицательным вещественным числом\")\n",
    "    else:\n",
    "        print(\"Число является положительным вещественным числом\")\n",
    "else:\n",
    "    print(\"Число не является вещественным числом\")"
   ]
  },
  {
   "cell_type": "code",
   "execution_count": null,
   "id": "72274ee9-887f-4651-9503-e97193a50d91",
   "metadata": {},
   "outputs": [],
   "source": []
  }
 ],
 "metadata": {
  "kernelspec": {
   "display_name": "Python 3 (ipykernel)",
   "language": "python",
   "name": "python3"
  },
  "language_info": {
   "codemirror_mode": {
    "name": "ipython",
    "version": 3
   },
   "file_extension": ".py",
   "mimetype": "text/x-python",
   "name": "python",
   "nbconvert_exporter": "python",
   "pygments_lexer": "ipython3",
   "version": "3.13.5"
  }
 },
 "nbformat": 4,
 "nbformat_minor": 5
}
